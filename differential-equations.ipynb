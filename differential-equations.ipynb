{
 "cells": [
  {
   "cell_type": "markdown",
   "source": [],
   "metadata": {
    "collapsed": false
   },
   "id": "b5d210a56e39a872"
  },
  {
   "cell_type": "code",
   "outputs": [
    {
     "name": "stdout",
     "output_type": "stream",
     "text": [
      "Eq(Derivative(y, x), x/y)\n"
     ]
    },
    {
     "data": {
      "text/plain": "<IPython.core.display.Math object>",
      "text/latex": "$\\displaystyle Eq(Derivative(y, x), x/y)$"
     },
     "metadata": {},
     "output_type": "display_data"
    },
    {
     "name": "stdout",
     "output_type": "stream",
     "text": [
      "Eq(x*y, 1/(x*y))\n"
     ]
    },
    {
     "data": {
      "text/plain": "<IPython.core.display.Math object>",
      "text/latex": "$\\displaystyle Eq(x*y, 1/(x*y))$"
     },
     "metadata": {},
     "output_type": "display_data"
    },
    {
     "name": "stdout",
     "output_type": "stream",
     "text": [
      "∫ x*y dy = ∫ 1/(x*y) dx\n"
     ]
    },
    {
     "data": {
      "text/plain": "<IPython.core.display.Math object>",
      "text/latex": "$\\displaystyle ∫ x*y dy = ∫ 1/(x*y) dx$"
     },
     "metadata": {},
     "output_type": "display_data"
    },
    {
     "name": "stdout",
     "output_type": "stream",
     "text": [
      "Error: The function cannot be automatically detected for -x/y + Derivative(y, x).\n"
     ]
    },
    {
     "data": {
      "text/plain": "<IPython.core.display.Math object>",
      "text/latex": "$\\displaystyle Error: The function cannot be automatically detected for -x/y + Derivative(y, x).$"
     },
     "metadata": {},
     "output_type": "display_data"
    }
   ],
   "source": [
    "import separated_variables as sv\n",
    "from IPython.display import display, Math\n",
    "\n",
    "def get_solution_steps():\n",
    "    equation =  input(\"Ingresa la ecuación diferencial (ejemplo: dy/dx = (6*x**2)/(2*y)\")\n",
    "    steps = sv.solve_separable_ode(equation)\n",
    "    \n",
    "    for step in steps:\n",
    "        print(step)\n",
    "        display(Math(step))\n",
    "        \n",
    "        \n",
    "get_solution_steps()"
   ],
   "metadata": {
    "collapsed": false,
    "ExecuteTime": {
     "end_time": "2024-03-22T00:38:50.965938Z",
     "start_time": "2024-03-22T00:38:48.774069Z"
    }
   },
   "id": "705139d74b95b5d9",
   "execution_count": 6
  },
  {
   "cell_type": "code",
   "outputs": [],
   "source": [],
   "metadata": {
    "collapsed": false
   },
   "id": "ead484c53f22fa18"
  },
  {
   "cell_type": "code",
   "outputs": [
    {
     "name": "stdout",
     "output_type": "stream",
     "text": [
      "2/y\n"
     ]
    }
   ],
   "source": [],
   "metadata": {
    "collapsed": false,
    "ExecuteTime": {
     "end_time": "2024-03-24T02:08:45.425322Z",
     "start_time": "2024-03-24T02:08:45.421329Z"
    }
   },
   "id": "ac734ee4b4b28f85",
   "execution_count": 4
  }
 ],
 "metadata": {
  "kernelspec": {
   "display_name": "Python 3 (ipykernel)",
   "language": "python",
   "name": "python3"
  },
  "language_info": {
   "codemirror_mode": {
    "name": "ipython",
    "version": 3
   },
   "file_extension": ".py",
   "mimetype": "text/x-python",
   "name": "python",
   "nbconvert_exporter": "python",
   "pygments_lexer": "ipython3",
   "version": "3.12.0"
  }
 },
 "nbformat": 4,
 "nbformat_minor": 5
}
