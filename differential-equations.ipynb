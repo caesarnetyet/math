{
 "cells": [
  {
   "cell_type": "markdown",
   "source": [],
   "metadata": {
    "collapsed": false
   },
   "id": "b5d210a56e39a872"
  },
  {
   "cell_type": "code",
   "outputs": [
    {
     "ename": "ValueError",
     "evalue": "not enough values to unpack (expected 2, got 1)",
     "output_type": "error",
     "traceback": [
      "\u001B[1;31m---------------------------------------------------------------------------\u001B[0m",
      "\u001B[1;31mValueError\u001B[0m                                Traceback (most recent call last)",
      "Cell \u001B[1;32mIn[19], line 13\u001B[0m\n\u001B[0;32m      9\u001B[0m         \u001B[38;5;28mprint\u001B[39m(step)\n\u001B[0;32m     10\u001B[0m         display(Math(step))\n\u001B[1;32m---> 13\u001B[0m \u001B[43mget_solution_steps\u001B[49m\u001B[43m(\u001B[49m\u001B[43m)\u001B[49m\n",
      "Cell \u001B[1;32mIn[19], line 6\u001B[0m, in \u001B[0;36mget_solution_steps\u001B[1;34m()\u001B[0m\n\u001B[0;32m      4\u001B[0m \u001B[38;5;28;01mdef\u001B[39;00m \u001B[38;5;21mget_solution_steps\u001B[39m():\n\u001B[0;32m      5\u001B[0m     equation \u001B[38;5;241m=\u001B[39m  \u001B[38;5;28minput\u001B[39m(\u001B[38;5;124m\"\u001B[39m\u001B[38;5;124mIngresa la ecuación diferencial (ejemplo: dy/dx = (6*x**2)/(2*y)\u001B[39m\u001B[38;5;124m\"\u001B[39m)\n\u001B[1;32m----> 6\u001B[0m     steps \u001B[38;5;241m=\u001B[39m \u001B[43msv\u001B[49m\u001B[38;5;241;43m.\u001B[39;49m\u001B[43mseparable_variables_solver\u001B[49m\u001B[43m(\u001B[49m\u001B[43mequation\u001B[49m\u001B[43m)\u001B[49m\n\u001B[0;32m      8\u001B[0m     \u001B[38;5;28;01mfor\u001B[39;00m step \u001B[38;5;129;01min\u001B[39;00m steps:\n\u001B[0;32m      9\u001B[0m         \u001B[38;5;28mprint\u001B[39m(step)\n",
      "File \u001B[1;32m~\\PycharmProjects\\math\\math\\separated_variables.py:9\u001B[0m, in \u001B[0;36mseparable_variables_solver\u001B[1;34m(ode)\u001B[0m\n\u001B[0;32m      7\u001B[0m steps \u001B[38;5;241m=\u001B[39m []\n\u001B[0;32m      8\u001B[0m \u001B[38;5;66;03m# Parse the input ODE\u001B[39;00m\n\u001B[1;32m----> 9\u001B[0m lhs_str, rhs_str \u001B[38;5;241m=\u001B[39m ode\u001B[38;5;241m.\u001B[39msplit(\u001B[38;5;124m\"\u001B[39m\u001B[38;5;124m=\u001B[39m\u001B[38;5;124m\"\u001B[39m)\n\u001B[0;32m     10\u001B[0m dy_dy \u001B[38;5;241m=\u001B[39m simplify(lhs_str)\n\u001B[0;32m     11\u001B[0m expression \u001B[38;5;241m=\u001B[39m simplify(rhs_str)\n",
      "\u001B[1;31mValueError\u001B[0m: not enough values to unpack (expected 2, got 1)"
     ]
    }
   ],
   "source": [
    "import separated_variables as sv\n",
    "from IPython.display import display, Math\n",
    "\n",
    "def get_solution_steps():\n",
    "    equation =  input(\"Ingresa la ecuación diferencial (ejemplo: dy/dx = (6*x**2)/(2*y)\")\n",
    "    steps = sv.separable_variables_solver(equation)\n",
    "    \n",
    "    for step in steps:\n",
    "        print(step)\n",
    "        display(Math(step))\n",
    "        \n",
    "        \n",
    "get_solution_steps()"
   ],
   "metadata": {
    "collapsed": false,
    "ExecuteTime": {
     "end_time": "2024-03-24T02:40:57.459106Z",
     "start_time": "2024-03-24T02:40:55.549805Z"
    }
   },
   "id": "705139d74b95b5d9",
   "execution_count": 19
  },
  {
   "cell_type": "code",
   "outputs": [],
   "source": [],
   "metadata": {
    "collapsed": false
   },
   "id": "ead484c53f22fa18"
  },
  {
   "cell_type": "code",
   "outputs": [
    {
     "name": "stdout",
     "output_type": "stream",
     "text": [
      "Expression: x**2 + 2*x/y + 3\n",
      "Expression: x**2 + 2*x/y + 3\n",
      "[x**2, 2*x/y]\n",
      "[x**2, 2*x/y]\n"
     ]
    }
   ],
   "source": [
    "import sympy as sp\n",
    "import separated_variables as sv\n",
    "x, y = sp.symbols('x y')\n",
    "expr = 2*x/y + x**2 + 3\n",
    "\n",
    "related_x_terms = sv.get_related_terms2(expr, x)\n",
    "relatex_y_terms = sv.get_related_terms2(expr, y)\n",
    "\n",
    "print(related_x_terms)  # Output: [1/y]\n",
    "print(related_x_terms)  # Output: [2*x, x**2]"
   ],
   "metadata": {
    "collapsed": false,
    "ExecuteTime": {
     "end_time": "2024-03-24T02:38:23.831096Z",
     "start_time": "2024-03-24T02:38:23.827413Z"
    }
   },
   "id": "ac734ee4b4b28f85",
   "execution_count": 17
  },
  {
   "cell_type": "code",
   "outputs": [],
   "source": [],
   "metadata": {
    "collapsed": false
   },
   "id": "61f8a5efba221fec"
  }
 ],
 "metadata": {
  "kernelspec": {
   "display_name": "Python 3 (ipykernel)",
   "language": "python",
   "name": "python3"
  },
  "language_info": {
   "codemirror_mode": {
    "name": "ipython",
    "version": 3
   },
   "file_extension": ".py",
   "mimetype": "text/x-python",
   "name": "python",
   "nbconvert_exporter": "python",
   "pygments_lexer": "ipython3",
   "version": "3.12.0"
  }
 },
 "nbformat": 4,
 "nbformat_minor": 5
}
